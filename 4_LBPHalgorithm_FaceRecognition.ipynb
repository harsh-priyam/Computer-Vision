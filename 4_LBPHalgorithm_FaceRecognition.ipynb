{
  "nbformat": 4,
  "nbformat_minor": 0,
  "metadata": {
    "colab": {
      "provenance": []
    },
    "kernelspec": {
      "name": "python3",
      "display_name": "Python 3"
    },
    "language_info": {
      "name": "python"
    }
  },
  "cells": [
    {
      "cell_type": "code",
      "execution_count": 1,
      "metadata": {
        "id": "SBVc8PMuRrXN"
      },
      "outputs": [],
      "source": [
        "import zipfile\n",
        "path = '/content/drive/MyDrive/Datasets/yalefaces.zip'\n",
        "zip_object = zipfile.ZipFile(file=path,mode='r')\n",
        "zip_object.extractall('./')\n",
        "zip_object.close()"
      ]
    },
    {
      "cell_type": "code",
      "source": [
        "from PIL import Image\n",
        "import cv2\n",
        "import numpy as np"
      ],
      "metadata": {
        "id": "EtICVdqMX7Vw"
      },
      "execution_count": 8,
      "outputs": []
    },
    {
      "cell_type": "code",
      "source": [
        " import os\n",
        "print(os.listdir('/content/yalefaces/train'))"
      ],
      "metadata": {
        "colab": {
          "base_uri": "https://localhost:8080/"
        },
        "id": "lMUPMxxcVLfY",
        "outputId": "04d78bbf-84e1-40d4-89eb-5c92601f4499"
      },
      "execution_count": 2,
      "outputs": [
        {
          "output_type": "stream",
          "name": "stdout",
          "text": [
            "['subject15.wink.gif', 'subject04.noglasses.gif', 'subject02.sleepy.gif', 'subject09.happy.gif', 'subject11.centerlight.gif', 'subject15.surprised.gif', 'subject05.normal.gif', 'subject05.wink.gif', 'subject08.surprised.gif', 'subject11.rightlight.gif', 'subject15.leftlight.gif', 'subject07.centerlight.gif', 'subject10.surprised.gif', 'subject03.rightlight.gif', 'subject06.noglasses.gif', 'subject13.happy.gif', 'subject08.noglasses.gif', 'subject12.sad.gif', 'subject06.sleepy.gif', 'subject10.sleepy.gif', 'subject03.happy.gif', 'subject04.normal.gif', 'subject14.glasses.gif', 'subject07.sad.gif', 'subject08.sad.gif', 'subject03.surprised.gif', 'subject03.centerlight.gif', 'subject12.noglasses.gif', 'subject07.glasses.gif', 'subject11.surprised.gif', 'subject10.wink.gif', 'subject08.wink.gif', 'subject07.surprised.gif', 'subject01.glasses.gif', 'subject01.surprised.gif', 'subject09.centerlight.gif', 'subject10.glasses.gif', 'subject10.noglasses.gif', 'subject09.leftlight.gif', 'subject04.glasses.gif', 'subject05.noglasses.gif', 'subject08.glasses.gif', 'subject05.leftlight.gif', 'subject03.normal.gif', 'subject14.wink.gif', 'subject10.leftlight.gif', 'subject08.sleepy.gif', 'subject14.happy.gif', 'subject01.noglasses.gif', 'subject13.leftlight.gif', 'subject03.sleepy.gif', 'subject13.surprised.gif', 'subject09.sleepy.gif', 'subject14.leftlight.gif', 'subject04.sad.gif', 'subject12.centerlight.gif', 'subject07.noglasses.gif', 'subject02.glasses.gif', 'subject02.noglasses.gif', 'subject01.sad.gif', 'subject04.centerlight.gif', 'subject11.sad.gif', 'subject03.noglasses.gif', 'subject14.noglasses.gif', 'subject04.happy.gif', 'subject15.centerlight.gif', 'subject05.sad.gif', 'subject05.rightlight.gif', 'subject04.sleepy.gif', 'subject12.glasses.gif', 'subject12.sleepy.gif', 'subject08.happy.gif', 'subject04.rightlight.gif', 'subject08.centerlight.gif', 'subject09.wink.gif', 'subject12.happy.gif', 'subject12.wink.gif', 'subject02.normal.gif', 'subject02.wink.gif', 'subject07.rightlight.gif', 'subject13.glasses.gif', 'subject13.centerlight.gif', 'subject02.surprised.gif', 'subject07.normal.gif', 'subject08.leftlight.gif', 'subject05.centerlight.gif', 'subject11.normal.gif', 'subject13.noglasses.gif', 'subject01.wink.gif', 'subject09.glasses.gif', 'subject14.sleepy.gif', 'subject06.normal.gif', 'subject14.rightlight.gif', 'subject13.wink.gif', 'subject05.happy.gif', 'subject11.noglasses.gif', 'subject12.surprised.gif', 'subject11.sleepy.gif', 'subject12.leftlight.gif', 'subject15.happy.gif', 'subject01.rightlight.gif', 'subject11.leftlight.gif', 'subject04.wink.gif', 'subject10.happy.gif', 'subject02.happy.gif', 'subject13.normal.gif', 'subject15.normal.gif', 'subject07.wink.gif', 'subject05.glasses.gif', 'subject15.noglasses.gif', 'subject03.wink.gif', 'subject09.noglasses.gif', 'subject02.sad.gif', 'subject02.rightlight.gif', 'subject06.surprised.gif', 'subject09.surprised.gif', 'subject06.rightlight.gif', 'subject01.normal.gif', 'subject03.sad.gif', 'subject06.sad.gif', 'subject06.centerlight.gif', 'subject13.rightlight.gif', 'subject01.leftlight.gif', 'subject06.glasses.gif', 'subject15.glasses.gif', 'subject09.normal.gif', 'subject07.sleepy.gif', 'subject10.normal.gif', 'subject06.wink.gif', 'subject14.surprised.gif', 'subject14.centerlight.gif', 'subject10.rightlight.gif', 'subject15.sleepy.gif', 'subject11.wink.gif', 'subject01.sleepy.gif']\n"
          ]
        }
      ]
    },
    {
      "cell_type": "code",
      "source": [
        "def get_image_data():\n",
        "  paths = [os.path.join('/content/yalefaces/train',f) for f in os.listdir('/content/yalefaces/train')]\n",
        "  faces = []\n",
        "  ids = []\n",
        "  for path in paths:\n",
        "    # print(path)\n",
        "    image = Image.open(path).convert('L')\n",
        "    # print(type(image))\n",
        "    image_np = np.array(image,'uint8')\n",
        "    id = int(os.path.split(path)[1].split('.')[0].replace('subject',''))\n",
        "    ids.append(id)\n",
        "    faces.append(image_np)\n",
        "    # print(id)\n",
        "  return np.array(ids), faces  "
      ],
      "metadata": {
        "id": "kaHlXLmWWGfY"
      },
      "execution_count": 21,
      "outputs": []
    },
    {
      "cell_type": "code",
      "source": [
        "ids, faces = get_image_data()"
      ],
      "metadata": {
        "id": "Gvm0i1vlWsZh"
      },
      "execution_count": 23,
      "outputs": []
    },
    {
      "cell_type": "code",
      "source": [
        "ids  "
      ],
      "metadata": {
        "colab": {
          "base_uri": "https://localhost:8080/"
        },
        "id": "QtQon9VxWvfI",
        "outputId": "e5916322-f87d-401e-95fe-f65ed1108711"
      },
      "execution_count": 24,
      "outputs": [
        {
          "output_type": "execute_result",
          "data": {
            "text/plain": [
              "array([15,  4,  2,  9, 11, 15,  5,  5,  8, 11, 15,  7, 10,  3,  6, 13,  8,\n",
              "       12,  6, 10,  3,  4, 14,  7,  8,  3,  3, 12,  7, 11, 10,  8,  7,  1,\n",
              "        1,  9, 10, 10,  9,  4,  5,  8,  5,  3, 14, 10,  8, 14,  1, 13,  3,\n",
              "       13,  9, 14,  4, 12,  7,  2,  2,  1,  4, 11,  3, 14,  4, 15,  5,  5,\n",
              "        4, 12, 12,  8,  4,  8,  9, 12, 12,  2,  2,  7, 13, 13,  2,  7,  8,\n",
              "        5, 11, 13,  1,  9, 14,  6, 14, 13,  5, 11, 12, 11, 12, 15,  1, 11,\n",
              "        4, 10,  2, 13, 15,  7,  5, 15,  3,  9,  2,  2,  6,  9,  6,  1,  3,\n",
              "        6,  6, 13,  1,  6, 15,  9,  7, 10,  6, 14, 14, 10, 15, 11,  1])"
            ]
          },
          "metadata": {},
          "execution_count": 24
        }
      ]
    },
    {
      "cell_type": "code",
      "source": [
        "len(ids) , len(faces)"
      ],
      "metadata": {
        "colab": {
          "base_uri": "https://localhost:8080/"
        },
        "id": "8F-T64JHX5OW",
        "outputId": "3a8903ea-6e67-4dfd-ca6c-a87200a95a18"
      },
      "execution_count": 25,
      "outputs": [
        {
          "output_type": "execute_result",
          "data": {
            "text/plain": [
              "(135, 135)"
            ]
          },
          "metadata": {},
          "execution_count": 25
        }
      ]
    },
    {
      "cell_type": "code",
      "source": [
        "faces[0] , faces[0].shape"
      ],
      "metadata": {
        "colab": {
          "base_uri": "https://localhost:8080/"
        },
        "id": "cnh4pZtDafS4",
        "outputId": "8ea7dfe7-a4fb-465e-f785-a98437d8903b"
      },
      "execution_count": 27,
      "outputs": [
        {
          "output_type": "execute_result",
          "data": {
            "text/plain": [
              "(array([[130, 130, 130, ..., 255, 255, 255],\n",
              "        [255, 255, 255, ..., 255, 255, 255],\n",
              "        [255, 255, 255, ..., 255, 255, 255],\n",
              "        ...,\n",
              "        [255, 255, 255, ..., 255, 255, 255],\n",
              "        [255, 255, 255, ..., 255, 255, 255],\n",
              "        [ 68,  68,  68, ...,  68,  68,  68]], dtype=uint8), (243, 320))"
            ]
          },
          "metadata": {},
          "execution_count": 27
        }
      ]
    },
    {
      "cell_type": "code",
      "source": [
        "243*320"
      ],
      "metadata": {
        "colab": {
          "base_uri": "https://localhost:8080/"
        },
        "id": "gNmUQx6EazzB",
        "outputId": "b0b28ad9-a00d-4316-f688-302f66bf494b"
      },
      "execution_count": 28,
      "outputs": [
        {
          "output_type": "execute_result",
          "data": {
            "text/plain": [
              "77760"
            ]
          },
          "metadata": {},
          "execution_count": 28
        }
      ]
    },
    {
      "cell_type": "code",
      "source": [
        "# Training the LBPH classifier"
      ],
      "metadata": {
        "id": "Vdut9LQAa6vs"
      },
      "execution_count": 29,
      "outputs": []
    },
    {
      "cell_type": "code",
      "source": [
        "# 8 X 8 = 64\n",
        "\n",
        "# Without parameters -:\n",
        "# lbph_classifier = cv2.face.LBPHFaceRecognizer_create()\n",
        "# lbph_classifier.train(faces,ids)\n",
        "# lbph_classifier.write('lbph_classifier.yml')\n",
        "\n",
        "# With parameters -:\n",
        "lbph_classifier = cv2.face.LBPHFaceRecognizer_create(radius=4,neighbors=14,grid_x=9,grid_y=9)\n",
        "lbph_classifier.train(faces,ids)\n",
        "lbph_classifier.write('lbph_classifier.yml')"
      ],
      "metadata": {
        "id": "cTNSEAsNbSuu"
      },
      "execution_count": 63,
      "outputs": []
    },
    {
      "cell_type": "code",
      "source": [
        "# Recognizing Faces"
      ],
      "metadata": {
        "id": "tbA6_N34cD__"
      },
      "execution_count": 32,
      "outputs": []
    },
    {
      "cell_type": "code",
      "source": [
        "lbph_face_classifier = cv2.face.LBPHFaceRecognizer_create()\n",
        "lbph_face_classifier.read('/content/lbph_classifier.yml')"
      ],
      "metadata": {
        "id": "5r0si0ZNcP0U"
      },
      "execution_count": 64,
      "outputs": []
    },
    {
      "cell_type": "code",
      "source": [
        "test_image = '/content/yalefaces/test/subject09.sad.gif'"
      ],
      "metadata": {
        "id": "lN_6KHPRc6Hu"
      },
      "execution_count": 65,
      "outputs": []
    },
    {
      "cell_type": "code",
      "source": [
        "image = Image.open(test_image).convert('L')\n",
        "image_np = np.array(image,'uint8')\n",
        "image_np"
      ],
      "metadata": {
        "colab": {
          "base_uri": "https://localhost:8080/"
        },
        "id": "5lYVd4k0dDc2",
        "outputId": "dae5e42d-555a-4dbc-ab83-eca278a4731a"
      },
      "execution_count": 66,
      "outputs": [
        {
          "output_type": "execute_result",
          "data": {
            "text/plain": [
              "array([[130, 130, 130, ..., 255, 255, 255],\n",
              "       [255, 255, 255, ..., 255, 255, 255],\n",
              "       [255, 255, 255, ..., 255, 255, 255],\n",
              "       ...,\n",
              "       [255, 255, 255, ..., 255, 238, 237],\n",
              "       [255, 255, 255, ..., 255, 235, 237],\n",
              "       [ 68,  68,  68, ...,  68,  68,  68]], dtype=uint8)"
            ]
          },
          "metadata": {},
          "execution_count": 66
        }
      ]
    },
    {
      "cell_type": "code",
      "source": [
        "image_np.shape"
      ],
      "metadata": {
        "colab": {
          "base_uri": "https://localhost:8080/"
        },
        "id": "JsDGxSAxdXlI",
        "outputId": "006b4bde-3781-4a5a-8302-9e8727fc2c56"
      },
      "execution_count": 36,
      "outputs": [
        {
          "output_type": "execute_result",
          "data": {
            "text/plain": [
              "(243, 320)"
            ]
          },
          "metadata": {},
          "execution_count": 36
        }
      ]
    },
    {
      "cell_type": "code",
      "source": [
        "predictions = lbph_face_classifier.predict(image_np)\n",
        "predictions"
      ],
      "metadata": {
        "colab": {
          "base_uri": "https://localhost:8080/"
        },
        "id": "qhcIv-j1dcnK",
        "outputId": "742c1eac-716e-4b70-cc4c-800ffda80c27"
      },
      "execution_count": 37,
      "outputs": [
        {
          "output_type": "execute_result",
          "data": {
            "text/plain": [
              "(9, 10.500599116253822)"
            ]
          },
          "metadata": {},
          "execution_count": 37
        }
      ]
    },
    {
      "cell_type": "code",
      "source": [
        "expected_output = int(os.path.split(test_image)[1].split('.')[0].replace('subject',''))"
      ],
      "metadata": {
        "id": "EJpF6aJpdtFR"
      },
      "execution_count": 38,
      "outputs": []
    },
    {
      "cell_type": "code",
      "source": [
        "expected_output"
      ],
      "metadata": {
        "colab": {
          "base_uri": "https://localhost:8080/"
        },
        "id": "h8Y-tw2BeWCF",
        "outputId": "10568e5b-751f-4006-e81a-0f01ac5e84be"
      },
      "execution_count": 39,
      "outputs": [
        {
          "output_type": "execute_result",
          "data": {
            "text/plain": [
              "9"
            ]
          },
          "metadata": {},
          "execution_count": 39
        }
      ]
    },
    {
      "cell_type": "code",
      "source": [
        "from google.colab.patches import cv2_imshow\n",
        "cv2.putText(image_np,'Pred: '+ str(predictions[0]),(10,30),cv2.FONT_HERSHEY_COMPLEX_SMALL,1,(0,255,0))\n",
        "cv2.putText(image_np,'Exp: '+ str(expected_output),(10,50),cv2.FONT_HERSHEY_COMPLEX_SMALL,1,(0,255,0))\n",
        "\n",
        "cv2_imshow(image_np)"
      ],
      "metadata": {
        "colab": {
          "base_uri": "https://localhost:8080/",
          "height": 260
        },
        "id": "Wd6gkIAqeXqH",
        "outputId": "6e7b378f-b184-4e3f-850b-aa0b3fc6fe41"
      },
      "execution_count": 47,
      "outputs": [
        {
          "output_type": "display_data",
          "data": {
            "text/plain": [
              "<PIL.Image.Image image mode=L size=320x243 at 0x7FCA7D4CA5B0>"
            ],
            "image/png": "[encoded data removed]"
          },
          "metadata": {}
        }
      ]
    },
    {
      "cell_type": "code",
      "source": [
        "#EVALUATING THE FACE CLASSIFIER"
      ],
      "metadata": {
        "id": "J_2D4BqhegfF"
      },
      "execution_count": 48,
      "outputs": []
    },
    {
      "cell_type": "code",
      "source": [
        "paths = [os.path.join('/content/yalefaces/test',f)for f in os.listdir('/content/yalefaces/test')]\n",
        "predictions = []\n",
        "expected_outputs = []\n",
        "for path in paths:\n",
        "  # print(path)\n",
        "  image = Image.open(path).convert('L')\n",
        "  image_np = np.array(image,'uint8')\n",
        "  prediction, _ = lbph_face_classifier.predict(image_np)\n",
        "  expected_output = int(os.path.split(path)[1].split('.')[0].replace('subject',''))\n",
        "\n",
        "  predictions.append(prediction)\n",
        "  expected_outputs.append(expected_output)"
      ],
      "metadata": {
        "id": "3k2RUp8Jfo_J"
      },
      "execution_count": 67,
      "outputs": []
    },
    {
      "cell_type": "code",
      "source": [
        "predictions = np.array(predictions)\n",
        "expected_outputs = np.array(expected_outputs)"
      ],
      "metadata": {
        "id": "s1ksDGLKi6C4"
      },
      "execution_count": 68,
      "outputs": []
    },
    {
      "cell_type": "code",
      "source": [
        "predictions"
      ],
      "metadata": {
        "colab": {
          "base_uri": "https://localhost:8080/"
        },
        "id": "qHEQSqnajaVb",
        "outputId": "8c779eff-323b-4037-abae-216bb252f236"
      },
      "execution_count": 55,
      "outputs": [
        {
          "output_type": "execute_result",
          "data": {
            "text/plain": [
              "array([ 7,  4, 14,  4,  9,  9,  4,  7,  4,  5,  8, 11,  9, 10,  7,  1,  3,\n",
              "       12,  5, 14,  5,  9,  1, 13, 13, 11,  6, 12, 15, 14])"
            ]
          },
          "metadata": {},
          "execution_count": 55
        }
      ]
    },
    {
      "cell_type": "code",
      "source": [
        "expected_outputs"
      ],
      "metadata": {
        "colab": {
          "base_uri": "https://localhost:8080/"
        },
        "id": "_WFnzrRnjcdw",
        "outputId": "b2b50fe3-72db-4b45-e636-ee690338bd02"
      },
      "execution_count": 56,
      "outputs": [
        {
          "output_type": "execute_result",
          "data": {
            "text/plain": [
              "array([ 7,  2, 14, 10,  3,  7,  8,  9,  4,  5,  8, 11,  4, 10, 15,  1,  3,\n",
              "       12,  2, 14,  5,  9,  1, 13, 13, 11,  6, 12, 15,  6])"
            ]
          },
          "metadata": {},
          "execution_count": 56
        }
      ]
    },
    {
      "cell_type": "code",
      "source": [
        "from sklearn.metrics import accuracy_score\n",
        "accuracy_score(expected_outputs,predictions)"
      ],
      "metadata": {
        "colab": {
          "base_uri": "https://localhost:8080/"
        },
        "id": "XlpPZIYijg4a",
        "outputId": "2e3f7eb8-fe3b-4868-fd6d-c2f9d184e37b"
      },
      "execution_count": 69,
      "outputs": [
        {
          "output_type": "execute_result",
          "data": {
            "text/plain": [
              "0.7"
            ]
          },
          "metadata": {},
          "execution_count": 69
        }
      ]
    },
    {
      "cell_type": "code",
      "source": [
        "from sklearn.metrics import confusion_matrix\n",
        "cm = confusion_matrix(expected_outputs,predictions)\n"
      ],
      "metadata": {
        "id": "aGcpHBPgmXYS"
      },
      "execution_count": 70,
      "outputs": []
    },
    {
      "cell_type": "code",
      "source": [
        "import seaborn\n",
        "seaborn.heatmap(cm,annot=True)"
      ],
      "metadata": {
        "colab": {
          "base_uri": "https://localhost:8080/",
          "height": 286
        },
        "id": "DKaEfCuGjwYi",
        "outputId": "4dcd107e-45bc-414f-dadb-ec0fc0762b1d"
      },
      "execution_count": 71,
      "outputs": [
        {
          "output_type": "execute_result",
          "data": {
            "text/plain": [
              "<matplotlib.axes._subplots.AxesSubplot at 0x7fca75a76070>"
            ]
          },
          "metadata": {},
          "execution_count": 71
        },
        {
          "output_type": "display_data",
          "data": {
            "text/plain": [
              "<Figure size 432x288 with 2 Axes>"
            ],
            "image/png": "[encoded data removed]"
          },
          "metadata": {
            "needs_background": "light"
          }
        }
      ]
    }
  ]
}