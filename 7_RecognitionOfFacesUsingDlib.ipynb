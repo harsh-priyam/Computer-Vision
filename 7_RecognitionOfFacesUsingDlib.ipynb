{
  "nbformat": 4,
  "nbformat_minor": 0,
  "metadata": {
    "colab": {
      "provenance": []
    },
    "kernelspec": {
      "name": "python3",
      "display_name": "Python 3"
    },
    "language_info": {
      "name": "python"
    },
    "accelerator": "GPU",
    "gpuClass": "standard"
  },
  "cells": [
    {
      "cell_type": "code",
      "execution_count": 2,
      "metadata": {
        "id": "3jiX_h-KN_92"
      },
      "outputs": [],
      "source": [
        "import dlib\n",
        "import os\n",
        "from PIL import Image\n",
        "import numpy as np\n",
        "import cv2\n",
        "from google.colab.patches import cv2_imshow"
      ]
    },
    {
      "cell_type": "code",
      "source": [
        "import zipfile\n",
        "path = '/content/drive/MyDrive/Datasets/yalefaces.zip'\n",
        "zip_object = zipfile.ZipFile(file=path, mode = 'r')\n",
        "zip_object.extractall('./')\n",
        "zip_object.close()"
      ],
      "metadata": {
        "id": "JpxZ50UoQA49"
      },
      "execution_count": 4,
      "outputs": []
    },
    {
      "cell_type": "code",
      "source": [
        "face_detector = dlib.get_frontal_face_detector()\n",
        "points_detector = dlib.shape_predictor('/content/drive/MyDrive/Weights/shape_predictor_68_face_landmarks.dat')\n",
        "face_descriptor_extractor = dlib.face_recognition_model_v1('/content/drive/MyDrive/Weights/dlib_face_recognition_resnet_model_v1.dat')"
      ],
      "metadata": {
        "id": "qYmpUHTAOSfF"
      },
      "execution_count": 5,
      "outputs": []
    },
    {
      "cell_type": "code",
      "source": [
        "index = {}\n",
        "idx=0\n",
        "face_descriptors = None\n",
        "\n",
        "paths = [os.path.join('/content/yalefaces/train',f) for f in os.listdir('/content/yalefaces/train')]\n",
        "for path in paths:\n",
        "  # print(path)\n",
        "  image = Image.open(path).convert('RGB')\n",
        "  image_np = np.array(image,'uint8')\n",
        "  face_detection = face_detector(image_np,1)\n",
        "  for face in face_detection:\n",
        "    l,t,r,b = face.left(), face.top(), face.right(), face.bottom()\n",
        "    cv2.rectangle(image_np,(l,t),(r,b),(0,0,255),2)\n",
        "    points = points_detector(image_np,face)\n",
        "    for point in points.parts():\n",
        "      cv2.circle(image_np,(point.x, point.y),2,(0,255,0),1)\n",
        "    face_descriptor = face_descriptor_extractor.compute_face_descriptor(image_np,points)\n",
        "    face_descriptor = [f for f in face_descriptor]\n",
        "    face_descriptor = np.array(face_descriptor,dtype=np.float64)\n",
        "    face_descriptor = face_descriptor[np.newaxis, :]\n",
        "    # print(face_descriptor)\n",
        "    if face_descriptors is None:\n",
        "      face_descriptors = face_descriptor\n",
        "    else:\n",
        "      face_descriptors = np.concatenate((face_descriptors,face_descriptor),axis=0)\n",
        "\n",
        "    index[idx] = path \n",
        "    idx += 1      \n",
        "\n",
        "  # cv2_imshow(image_np)  \n"
      ],
      "metadata": {
        "id": "ezXb_oEePQSn"
      },
      "execution_count": 6,
      "outputs": []
    },
    {
      "cell_type": "code",
      "source": [
        "face_descriptors.shape"
      ],
      "metadata": {
        "colab": {
          "base_uri": "https://localhost:8080/"
        },
        "id": "kDKnc5u0RzYZ",
        "outputId": "0ae74283-a00d-4504-c95d-85c1ac88f623"
      },
      "execution_count": 19,
      "outputs": [
        {
          "output_type": "execute_result",
          "data": {
            "text/plain": [
              "(132, 128)"
            ]
          },
          "metadata": {},
          "execution_count": 19
        }
      ]
    },
    {
      "cell_type": "code",
      "source": [
        "face_descriptors"
      ],
      "metadata": {
        "colab": {
          "base_uri": "https://localhost:8080/"
        },
        "id": "davlNbVeYOUl",
        "outputId": "15467797-7669-4b74-bf28-88e0f4afe2ed"
      },
      "execution_count": 20,
      "outputs": [
        {
          "output_type": "execute_result",
          "data": {
            "text/plain": [
              "array([[-0.15016598,  0.08190971, -0.00158949, ..., -0.02205639,\n",
              "         0.11158851,  0.05841742],\n",
              "       [-0.16750331,  0.04092948,  0.07239178, ...,  0.02982324,\n",
              "         0.11341026,  0.05801933],\n",
              "       [-0.09758417,  0.01798972, -0.09853616, ..., -0.00577495,\n",
              "        -0.01994056,  0.06262899],\n",
              "       ...,\n",
              "       [-0.1402103 ,  0.07552125,  0.01510925, ...,  0.01090842,\n",
              "         0.06845607,  0.0286531 ],\n",
              "       [-0.20720418,  0.09235502,  0.05147153, ..., -0.03726506,\n",
              "         0.0900088 ,  0.06165224],\n",
              "       [-0.12021624,  0.11514573,  0.08716735, ..., -0.02592804,\n",
              "         0.18188372,  0.00609227]])"
            ]
          },
          "metadata": {},
          "execution_count": 20
        }
      ]
    },
    {
      "cell_type": "code",
      "source": [
        "np.linalg.norm(face_descriptors[131]-face_descriptors[130])"
      ],
      "metadata": {
        "colab": {
          "base_uri": "https://localhost:8080/"
        },
        "id": "Xa5UDMDYYZuY",
        "outputId": "7742ea07-bb2b-41e4-9203-49506eea8c1d"
      },
      "execution_count": 7,
      "outputs": [
        {
          "output_type": "execute_result",
          "data": {
            "text/plain": [
              "0.8342713128797209"
            ]
          },
          "metadata": {},
          "execution_count": 7
        }
      ]
    },
    {
      "cell_type": "code",
      "source": [
        "np.linalg.norm(face_descriptors[131]-face_descriptors[129])"
      ],
      "metadata": {
        "colab": {
          "base_uri": "https://localhost:8080/"
        },
        "id": "2oUk0bKIl4Ww",
        "outputId": "82bb6c60-c766-49f4-8b82-dae0f5f6474a"
      },
      "execution_count": 8,
      "outputs": [
        {
          "output_type": "execute_result",
          "data": {
            "text/plain": [
              "0.8688091416605084"
            ]
          },
          "metadata": {},
          "execution_count": 8
        }
      ]
    },
    {
      "cell_type": "code",
      "source": [
        "np.linalg.norm(face_descriptors[131]-face_descriptors[128])"
      ],
      "metadata": {
        "colab": {
          "base_uri": "https://localhost:8080/"
        },
        "id": "06lup43kmUFv",
        "outputId": "39a31d19-df2b-417c-bc9f-fbd2ba52ce4f"
      },
      "execution_count": 9,
      "outputs": [
        {
          "output_type": "execute_result",
          "data": {
            "text/plain": [
              "0.8217703878181023"
            ]
          },
          "metadata": {},
          "execution_count": 9
        }
      ]
    },
    {
      "cell_type": "code",
      "source": [
        "np.linalg.norm(face_descriptors[131]-face_descriptors, axis=1)"
      ],
      "metadata": {
        "colab": {
          "base_uri": "https://localhost:8080/"
        },
        "id": "3Mc9XBFgmlO2",
        "outputId": "c7c0fcf8-ac90-4fe7-d50c-5b04532676f9"
      },
      "execution_count": 10,
      "outputs": [
        {
          "output_type": "execute_result",
          "data": {
            "text/plain": [
              "array([0.76400487, 0.79178752, 0.95649556, 0.62123555, 0.78258176,\n",
              "       0.86599835, 0.92052061, 0.59698965, 0.76194778, 0.57233887,\n",
              "       0.66489587, 0.80980989, 0.8381932 , 0.83245882, 0.6559955 ,\n",
              "       0.46361575, 0.9067689 , 0.88818831, 0.75961726, 0.90873356,\n",
              "       0.89490924, 0.80443262, 0.55282672, 0.80348499, 0.897523  ,\n",
              "       0.93304279, 0.50080194, 0.82819846, 0.80812139, 0.76978965,\n",
              "       0.87601678, 0.80234189, 0.88995973, 0.518422  , 0.79168658,\n",
              "       0.89894142, 0.59244871, 0.87388178, 0.76818003, 0.79828147,\n",
              "       0.93035231, 0.80385084, 0.83400336, 0.94321238, 0.84113372,\n",
              "       0.75961726, 0.79383459, 0.51749106, 0.90686047, 0.77587148,\n",
              "       0.59543549, 0.8502281 , 0.81755132, 0.67245045, 0.87425808,\n",
              "       0.7484544 , 0.85653727, 0.79515514, 0.84265979, 0.83655308,\n",
              "       0.50987103, 0.87975626, 0.60238677, 0.90353108, 0.66051288,\n",
              "       0.81521283, 0.8335708 , 0.32223582, 0.86176956, 0.79547124,\n",
              "       0.83339249, 0.91671219, 0.85036256, 0.87425808, 0.42748862,\n",
              "       0.62862278, 0.91398545, 0.8007516 , 0.60238677, 0.82379997,\n",
              "       0.7802587 , 0.59089422, 0.91543089, 0.79127856, 0.54385654,\n",
              "       0.89751498, 0.75115899, 0.78739316, 0.68306212, 0.93089594,\n",
              "       0.86252711, 0.79405512, 0.80812139, 0.78003201, 0.8852093 ,\n",
              "       0.5408903 , 0.89160482, 0.90039198, 0.88717638, 0.79249602,\n",
              "       0.5585361 , 0.95069428, 0.78466114, 0.41137573, 0.87878718,\n",
              "       0.82493611, 0.85036256, 0.76292433, 0.94888309, 0.58479063,\n",
              "       0.82660191, 0.32223582, 0.83605391, 0.81040254, 0.38605068,\n",
              "       0.61039576, 0.83191784, 0.76834572, 0.87517491, 0.74414672,\n",
              "       0.62393085, 0.45845798, 0.75933435, 0.4912168 , 0.3552139 ,\n",
              "       0.79822322, 0.80038534, 0.32444087, 0.82177039, 0.86880914,\n",
              "       0.83427131, 0.        ])"
            ]
          },
          "metadata": {},
          "execution_count": 10
        }
      ]
    },
    {
      "cell_type": "code",
      "source": [
        "threshold = 0.5\n",
        "predictions = []\n",
        "expected_output = []\n",
        "\n",
        "paths = [os.path.join('/content/yalefaces/test',f) for f in os.listdir('/content/yalefaces/test')]\n",
        "for path in paths:\n",
        "   image = Image.open(path).convert('RGB')\n",
        "   image_np = np.array(image,'uint8')\n",
        "   face_detection = face_detector(image_np,1)\n",
        "   for face in face_detection:\n",
        "     points = points_detector(image_np,face)\n",
        "     face_descriptor = face_descriptor_extractor.compute_face_descriptor(image_np,points)\n",
        "     face_descriptor = [f for f in face_descriptor]\n",
        "     face_descriptor = np.array(face_descriptor,dtype=np.float64)\n",
        "     face_descriptor = face_descriptor[np.newaxis, :]\n",
        "\n",
        "     distances = np.linalg.norm(face_descriptor - face_descriptors, axis=1)\n",
        "     min_index = np.argmin(distances)\n",
        "     min_distance = distances[min_index]\n",
        "     if min_distance <= threshold:\n",
        "       name_pred = int(os.path.split(index[min_index])[1].split('.')[0].replace('subject',''))\n",
        "     else:\n",
        "       name_pred = 'Not identified'\n",
        "     name_real = int(os.path.split(path)[1].split('.')[0].replace('subject','')) \n",
        "     \n",
        "     predictions.append(name_pred)\n",
        "     expected_output.append(name_real)\n",
        "\n",
        "     cv2.putText(image_np, 'Pred: ' + str(name_pred), (10,30),cv2.FONT_HERSHEY_COMPLEX_SMALL,1,(0,255,0))   \n",
        "     cv2.putText(image_np, 'Exp: ' + str(name_real), (10,50),cv2.FONT_HERSHEY_COMPLEX_SMALL,1,(0,255,0))   \n",
        "\n",
        "cv2_imshow(image_np)\n",
        "\n",
        "predictions = np.array(predictions)\n",
        "expected_output = np.array(expected_output)"
      ],
      "metadata": {
        "colab": {
          "base_uri": "https://localhost:8080/",
          "height": 260
        },
        "id": "NIbsid9nm9M8",
        "outputId": "52d4a150-571e-4c56-a693-2db5d1f13845"
      },
      "execution_count": 24,
      "outputs": [
        {
          "output_type": "display_data",
          "data": {
            "text/plain": [
              "<PIL.Image.Image image mode=RGB size=320x243 at 0x7FB7111EB700>"
            ],
            "image/png": "[encoded data removed]"
          },
          "metadata": {}
        }
      ]
    },
    {
      "cell_type": "code",
      "source": [
        "predictions"
      ],
      "metadata": {
        "colab": {
          "base_uri": "https://localhost:8080/"
        },
        "id": "kwZZwJf4xLCv",
        "outputId": "cb3d84a1-b618-479e-b10a-03f5baf1552c"
      },
      "execution_count": 25,
      "outputs": [
        {
          "output_type": "execute_result",
          "data": {
            "text/plain": [
              "array([11,  5, 12, 14,  7,  3, 11,  1,  8, 15, 14, 13, 10, 15,  9,  6, 12,\n",
              "        8,  5,  2,  4,  2,  7,  6,  1,  4,  3, 10, 13,  9])"
            ]
          },
          "metadata": {},
          "execution_count": 25
        }
      ]
    },
    {
      "cell_type": "code",
      "source": [
        "expected_output"
      ],
      "metadata": {
        "colab": {
          "base_uri": "https://localhost:8080/"
        },
        "id": "aNyA6VwQyfEc",
        "outputId": "77be6cc7-14b6-4adb-be31-92ea6dc0df7a"
      },
      "execution_count": 26,
      "outputs": [
        {
          "output_type": "execute_result",
          "data": {
            "text/plain": [
              "array([11,  5, 12, 14,  7,  3, 11,  1,  8, 15, 14, 13, 10, 15,  9,  6, 12,\n",
              "        8,  5,  2,  4,  2,  7,  6,  1,  4,  3, 10, 13,  9])"
            ]
          },
          "metadata": {},
          "execution_count": 26
        }
      ]
    },
    {
      "cell_type": "code",
      "source": [
        "from sklearn.metrics import accuracy_score\n",
        "accuracy_score(expected_output,predictions)"
      ],
      "metadata": {
        "colab": {
          "base_uri": "https://localhost:8080/"
        },
        "id": "w3VLofMmyhx5",
        "outputId": "4c149726-9ac8-4961-d894-2eef255ae686"
      },
      "execution_count": 27,
      "outputs": [
        {
          "output_type": "execute_result",
          "data": {
            "text/plain": [
              "1.0"
            ]
          },
          "metadata": {},
          "execution_count": 27
        }
      ]
    },
    {
      "cell_type": "code",
      "source": [],
      "metadata": {
        "id": "Q0Er4zHxyupG"
      },
      "execution_count": null,
      "outputs": []
    }
  ]
}